{
 "cells": [
  {
   "cell_type": "code",
   "execution_count": 1,
   "metadata": {},
   "outputs": [],
   "source": [
    "import sqlite3\n",
    "import pandas as pd\n",
    "\n",
    "\n",
    "\n",
    "conn = sqlite3.connect(\"/mnt/external_hdd/Data/coinbase.db\")\n",
    "df = pd.read_sql_query(\"SELECT * FROM bitcoin_coinbase\", conn)\n",
    "conn.close()\n"
   ]
  },
  {
   "cell_type": "code",
   "execution_count": 18,
   "metadata": {},
   "outputs": [
    {
     "name": "stdout",
     "output_type": "stream",
     "text": [
      "\u001b[0m\u001b[01;32mbacktest_coindesk.py\u001b[0m*  \u001b[01;32mharvester.py\u001b[0m*           \u001b[01;34m__pycache__\u001b[0m/\r\n",
      "coinbase.db            Learning_jupyter.ipynb  \u001b[01;32mset_up_db_cd.py\u001b[0m*\r\n",
      "crontab                \u001b[01;32mlive_ticker.py\u001b[0m*         \u001b[01;32msql_learning.py\u001b[0m*\r\n",
      "\u001b[01;32mdumb_buy.py\u001b[0m*           \u001b[01;32mmatlibplot.py\u001b[0m*          Untitled.ipynb\r\n"
     ]
    }
   ],
   "source": [
    "ls"
   ]
  },
  {
   "cell_type": "code",
   "execution_count": 25,
   "metadata": {},
   "outputs": [],
   "source": [
    "import matplotlib.pyplot as plt"
   ]
  },
  {
   "cell_type": "code",
   "execution_count": 23,
   "metadata": {},
   "outputs": [
    {
     "name": "stdout",
     "output_type": "stream",
     "text": [
      "import sqlite3\r\n",
      "import pandas as pd\r\n",
      "#import matplotlib\r\n",
      "#matplotlib.use('Qt4Agg')\r\n",
      "import matplotlib.pyplot as plt\r\n",
      "\r\n",
      "\r\n",
      "\r\n",
      "conn = sqlite3.connect(\"/mnt/external_hdd/Data/coinbase.db\")\r\n",
      "df = pd.read_sql_query(\"SELECT * FROM bitcoin_coinbase\", conn)\r\n",
      "conn.close()\r\n",
      "\r\n",
      "#print(df.dtypes)\r\n",
      "#print(df.info)\r\n",
      "#print(type(df['datetime'][0]))\r\n",
      "#plt.plot(df[\"datetime\"],[\"price\"])\r\n",
      "#print(df[\"price\"])\r\n",
      "#print(df[\"datetime\"])\r\n",
      "df['datetime'] = pd.to_datetime(df['datetime'], format='%Y-%m-%d %H:%M:%S')\r\n",
      "#print(df[\"datetime\"])\r\n",
      "plt.plot(df[\"datetime\"],df[\"price\"])\r\n",
      "plt.suptitle('Bitcoin Price (USD)')\r\n",
      "plt.show()\r\n",
      "\r\n"
     ]
    }
   ],
   "source": [
    "cat matlibplot.py\n"
   ]
  },
  {
   "cell_type": "code",
   "execution_count": 26,
   "metadata": {},
   "outputs": [
    {
     "data": {
      "image/png": "[encoded data removed]",
      "text/plain": [
       "<Figure size 432x288 with 1 Axes>"
      ]
     },
     "metadata": {
      "needs_background": "light"
     },
     "output_type": "display_data"
    }
   ],
   "source": [
    "df['datetime'] = pd.to_datetime(df['datetime'], format='%Y-%m-%d %H:%M:%S')\n",
    "#print(df[\"datetime\"])\n",
    "plt.plot(df[\"datetime\"],df[\"price\"])\n",
    "plt.suptitle('Bitcoin Price (USD)')\n",
    "plt.show()"
   ]
  },
  {
   "cell_type": "code",
   "execution_count": 28,
   "metadata": {},
   "outputs": [],
   "source": [
    "conn = sqlite3.connect(\"/mnt/external_hdd/Data/coinbase.db\")\n",
    "df = pd.read_sql_query(\"SELECT price FROM bitcoin_coinbase\", conn)"
   ]
  },
  {
   "cell_type": "code",
   "execution_count": 29,
   "metadata": {},
   "outputs": [
    {
     "data": {
      "text/html": [
       "<div>\n",
       "<style scoped>\n",
       "    .dataframe tbody tr th:only-of-type {\n",
       "        vertical-align: middle;\n",
       "    }\n",
       "\n",
       "    .dataframe tbody tr th {\n",
       "        vertical-align: top;\n",
       "    }\n",
       "\n",
       "    .dataframe thead th {\n",
       "        text-align: right;\n",
       "    }\n",
       "</style>\n",
       "<table border=\"1\" class=\"dataframe\">\n",
       "  <thead>\n",
       "    <tr style=\"text-align: right;\">\n",
       "      <th></th>\n",
       "      <th>price</th>\n",
       "    </tr>\n",
       "  </thead>\n",
       "  <tbody>\n",
       "    <tr>\n",
       "      <th>0</th>\n",
       "      <td>17634.7083</td>\n",
       "    </tr>\n",
       "    <tr>\n",
       "      <th>1</th>\n",
       "      <td>17603.5983</td>\n",
       "    </tr>\n",
       "    <tr>\n",
       "      <th>2</th>\n",
       "      <td>17626.8689</td>\n",
       "    </tr>\n",
       "    <tr>\n",
       "      <th>3</th>\n",
       "      <td>17634.8950</td>\n",
       "    </tr>\n",
       "    <tr>\n",
       "      <th>4</th>\n",
       "      <td>17633.5430</td>\n",
       "    </tr>\n",
       "    <tr>\n",
       "      <th>...</th>\n",
       "      <td>...</td>\n",
       "    </tr>\n",
       "    <tr>\n",
       "      <th>22520</th>\n",
       "      <td>18945.6037</td>\n",
       "    </tr>\n",
       "    <tr>\n",
       "      <th>22521</th>\n",
       "      <td>18915.5574</td>\n",
       "    </tr>\n",
       "    <tr>\n",
       "      <th>22522</th>\n",
       "      <td>18910.2109</td>\n",
       "    </tr>\n",
       "    <tr>\n",
       "      <th>22523</th>\n",
       "      <td>18914.1127</td>\n",
       "    </tr>\n",
       "    <tr>\n",
       "      <th>22524</th>\n",
       "      <td>18909.0281</td>\n",
       "    </tr>\n",
       "  </tbody>\n",
       "</table>\n",
       "<p>22525 rows × 1 columns</p>\n",
       "</div>"
      ],
      "text/plain": [
       "            price\n",
       "0      17634.7083\n",
       "1      17603.5983\n",
       "2      17626.8689\n",
       "3      17634.8950\n",
       "4      17633.5430\n",
       "...           ...\n",
       "22520  18945.6037\n",
       "22521  18915.5574\n",
       "22522  18910.2109\n",
       "22523  18914.1127\n",
       "22524  18909.0281\n",
       "\n",
       "[22525 rows x 1 columns]"
      ]
     },
     "execution_count": 29,
     "metadata": {},
     "output_type": "execute_result"
    }
   ],
   "source": [
    "df"
   ]
  }
 ],
 "metadata": {
  "kernelspec": {
   "display_name": "Python 3",
   "language": "python",
   "name": "python3"
  },
  "language_info": {
   "codemirror_mode": {
    "name": "ipython",
    "version": 3
   },
   "file_extension": ".py",
   "mimetype": "text/x-python",
   "name": "python",
   "nbconvert_exporter": "python",
   "pygments_lexer": "ipython3",
   "version": "3.8.5"
  }
 },
 "nbformat": 4,
 "nbformat_minor": 4
}

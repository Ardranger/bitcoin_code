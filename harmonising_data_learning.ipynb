{
 "metadata": {
  "language_info": {
   "codemirror_mode": {
    "name": "ipython",
    "version": 3
   },
   "file_extension": ".py",
   "mimetype": "text/x-python",
   "name": "python",
   "nbconvert_exporter": "python",
   "pygments_lexer": "ipython3",
   "version": "3.8.5"
  },
  "orig_nbformat": 2,
  "kernelspec": {
   "name": "python385jvsc74a57bd0d1d383dd683777d766403e027c0c6f0deae1f11786df3552c7c4297c2dcb657d",
   "display_name": "Python 3.8.5 64-bit ('bitcoin_backtest': conda)"
  },
  "metadata": {
   "interpreter": {
    "hash": "d1d383dd683777d766403e027c0c6f0deae1f11786df3552c7c4297c2dcb657d"
   }
  }
 },
 "nbformat": 4,
 "nbformat_minor": 2,
 "cells": [
  {
   "cell_type": "code",
   "execution_count": 26,
   "metadata": {},
   "outputs": [
    {
     "output_type": "execute_result",
     "data": {
      "text/plain": [
       "0         16984.8631\n",
       "1         16984.8631\n",
       "2         16984.8631\n",
       "3         16984.8631\n",
       "4         17033.6504\n",
       "             ...    \n",
       "265159    35496.5719\n",
       "265160    35357.1162\n",
       "265161    35318.6955\n",
       "265162    35248.1861\n",
       "265163    35245.6475\n",
       "Name: price, Length: 265164, dtype: float64"
      ]
     },
     "metadata": {},
     "execution_count": 26
    }
   ],
   "source": [
    "import sqlite3\n",
    "import pandas as pd\n",
    "import matplotlib.pyplot as plt\n",
    "conn = sqlite3.connect(\"/mnt/external_hdd/Data/uber.db\")\n",
    "df = pd.read_sql_query(\"SELECT * FROM bitcoin_coinbase\", conn)\n",
    "conn.close()\n",
    "df['datetime'] = pd.to_datetime(df['datetime'], format='%Y-%m-%d %H:%M:%S')\n",
    "df[\"datetime\"].drop_duplicates\n",
    "df[\"price\"]"
   ]
  },
  {
   "cell_type": "code",
   "execution_count": 27,
   "metadata": {},
   "outputs": [],
   "source": [
    "df = df.set_index('datetime').resample('1T').mean().interpolate('linear')"
   ]
  },
  {
   "cell_type": "code",
   "execution_count": 29,
   "metadata": {},
   "outputs": [
    {
     "output_type": "execute_result",
     "data": {
      "text/plain": [
       "<bound method DataFrame.isna of                           price\n",
       "datetime                       \n",
       "2020-11-26 20:48:00  16984.8631\n",
       "2020-11-26 20:49:00  16984.8631\n",
       "2020-11-26 20:50:00  16984.8631\n",
       "2020-11-26 20:51:00  16984.8631\n",
       "2020-11-26 20:52:00  17033.6504\n",
       "...                         ...\n",
       "2021-05-23 12:21:00  35496.5719\n",
       "2021-05-23 12:22:00  35357.1162\n",
       "2021-05-23 12:23:00  35318.6955\n",
       "2021-05-23 12:24:00  35248.1861\n",
       "2021-05-23 12:25:00  35245.6475\n",
       "\n",
       "[255818 rows x 1 columns]>"
      ]
     },
     "metadata": {},
     "execution_count": 29
    }
   ],
   "source": [
    "df[df.isna()]"
   ]
  },
  {
   "cell_type": "code",
   "execution_count": null,
   "metadata": {},
   "outputs": [],
   "source": []
  }
 ]
}